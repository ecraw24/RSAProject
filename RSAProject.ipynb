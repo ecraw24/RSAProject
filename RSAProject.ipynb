{
 "cells": [
  {
   "cell_type": "markdown",
   "metadata": {},
   "source": [
    "## RSA - The Project"
   ]
  },
  {
   "cell_type": "markdown",
   "metadata": {},
   "source": [
    "Name:  Emma Crawford\n",
    "\n",
    "Moodle Email: emcr8954@colorado.edu\n",
    "\n",
    "*Name your file \"cuidentikey\".ipynb *  This means YOUR identikey. \n",
    "\n",
    "**Grading Notes**\n",
    "\n",
    "* Reminder - ALL CODE MUST BE WELL COMMENTED AND EASY TO READ -  These should be easy to read. Here is a simple guide: https://realpython.com/python-comments-guide/ \n",
    "* MUST USE A MIX OF CODE AND TEXT BLOCKS.\n",
    "* A Jupyter Notebook is an interactive document - not a long scroll of code and commments.\n",
    "* **Do NOT delete instructions,or given comments in the code.** You may modify for you own use later.\n",
    "* Use the variables given in the first part of the project.\n",
    "* The narrative elements of the project are just as important as the coding.\n",
    "* Do NOT copy code from the internet (or anywhere). If you use found code as part of a custom feature be sure to cite sources, comment the code and add you own insight.\n",
    "* This is an important part of your course grade. All work must be well explained and well organized. Sloppy, rushed, incomplete, or otherwise demonstrating minimial effort will not recieve full credit. Projects achieving a total of fewer than 60 points (F) will be assigned a grade of 0.\n",
    "* If your target grade in the course can be acheived without this project you are welcome to skip it. That is an entirely reasonable choice it your work/life situation requires and your final grade can support it. Please take the 0 points if you wish and use the time as needed in your adult life. #nojudgment. \n",
    "\n",
    "\n",
    "\n",
    "\n"
   ]
  },
  {
   "cell_type": "markdown",
   "metadata": {},
   "source": [
    "<hr />\n",
    "\n",
    "# Table of Contents\n",
    "\n",
    "### 1. Introduction  (5 points - COMPLETE)\n",
    "\n",
    "### 2. RSA Code Package    (10 points - COMPLETE)\n",
    "###### &nbsp;&nbsp;&nbsp;&nbsp;&nbsp;&nbsp; 2.1 Basic tool set\n",
    "###### &nbsp;&nbsp;&nbsp;&nbsp;&nbsp;&nbsp; 2.2 First tool set\n",
    "###### &nbsp;&nbsp;&nbsp;&nbsp;&nbsp;&nbsp; 2.3 Second tool set\n",
    "\n",
    "### 3. RSA More Code  (10 points - COMPLETE)\n",
    "\n",
    "###### &nbsp;&nbsp;&nbsp;&nbsp;&nbsp;&nbsp;  Encode\n",
    "###### &nbsp;&nbsp;&nbsp;&nbsp;&nbsp;&nbsp;  Decode\n",
    "\n",
    "### 4. Create a demo of encoding and decoding a message that highlights how your code works and the steps involved.   (15 points - COMPLETE)\n",
    "\n",
    "### 5. Results of exchanging codes with others.  (5 points - COMPLETE)\n",
    "\n",
    "### 6. Narrative (20 points - COMPLETE)\n",
    "\n",
    "### 7. Why FME?       (5 points - COMPLETE)\n",
    "\n",
    "\n",
    "\n",
    "### **Points for 8 - 10 only available if the student is exchanging messages by the Friday (midnight) before the project is due.**\n",
    "\n",
    "### 8. How to break codes    (5 points)\n",
    "\n",
    "### 9. Code breaking complete examples  (5 points - COMPLETE)\n",
    "\n",
    "### 10.Custom code feature / Advanced options (15 points - COMPLETE) Needed to get 100%.\n"
   ]
  },
  {
   "cell_type": "markdown",
   "metadata": {},
   "source": [
    "---"
   ]
  },
  {
   "cell_type": "markdown",
   "metadata": {},
   "source": [
    "\n",
    "\n",
    "\n",
    "\n",
    "\n",
    "\n",
    "## 1. Introduction to your RSA Package and Project.  Give an overview of your project and what you have learned."
   ]
  },
  {
   "cell_type": "markdown",
   "metadata": {},
   "source": [
    "The following sections and corresponding code represent a method for encrypting and decrypting data. \n",
    "\n",
    "### What is RSA?\n",
    "RSA encryption is a public key method that allows the theoretical receiver to send a public key to the theoretical sender. The sender encrypts their message with the public key and sends the encrypted message. The receiver decrypts the message with their private key to receive the message. Imagine Joe, a person who wants to receive a message from Susan. Joe sends a box and an unlocked padlock to Susan who puts her message in the box and locks the padlock. Joe is the only one with the key to the padlock; so, even if someone steals the box from Susan, they cannot unlock the box without Joe's key. In addition, someone could steal the open box with the unlocked padlock and add their own message, but they still would not be able to unlock the lock. The box and unlocked padlock represent Joe's public key that is sent to Susan, but could be safely intercepted and stolen without any risk to Joe. The key to the padlock represents Joe's private key which is never sent, exchanged, or otherwise put in harm's way, unless Joe chooses to do so. \n",
    "\n",
    "### Why does it work?\n",
    "The privacy and virtual safety of Joe's private key relies on the difficulty of factoring primes. With a sufficiently large key, it could take years for the fastest computer to factor out the primes of that number. However, we can easily create a large key with a random selection of primes in a few seconds. Quantum computing may significantly decrease the amount of time it takes to factor out primes, which may compromise the security of any system that uses RSA encryption.\n",
    "\n",
    "### What does the project show?\n",
    "The project starts with a basic toolset for converting numbers to characters. The second toolset contains functions that represent the math behind RSA encryption. This includes:\n",
    "1. Fast Modular Exponentiation Algorithm: calculating problems of the form (x^y mod z) for large values of y\n",
    "2. Euclidean Algorithm: calculates the greatist common factor of two numbers\n",
    "3. Extended Euclidean Algorithm: calculates the greatist common factor of two numbers as well as the linear combination for that factor\n",
    "4. Modular Inverse: calculates a number y that makes ((x*y) mod c = 1) true; y can only make the statement true if x and z are relatively prime (i.e., greatest common factor is 1)\n",
    "\n",
    "The encoding and decoding process are elegantly simple once you have the public and private keys. The custom feature shows what information is needed to encode/decode, writes the corresponding output to a file, and provides a user friendly manner to encrypt and decrypt data. \n",
    "\n",
    "### What have I learned?\n",
    "I learned about the following topics:\n",
    "* The value of calculations that are easy to do but incredibly difficult to undo\n",
    "* The basic math behind encryption and therefore cybersecurity\n",
    "* Regular expressions\n",
    "* Reading and writing files in python\n",
    "* The power of primes and the importance of a deep knowledge of them for computer scientists\n",
    "* Loops and lists\n",
    "* If/else statements"
   ]
  },
  {
   "cell_type": "markdown",
   "metadata": {},
   "source": [
    "### 2.1\n",
    "#### Basic tool set\n",
    "\n",
    "These are functions that you'll need to pre-process the messages before the messages are encoded and decoded by the RSA algorithm. That is the reason we will be defining them first.\n",
    "\n"
   ]
  },
  {
   "cell_type": "code",
   "execution_count": 2,
   "metadata": {},
   "outputs": [],
   "source": [
    "def Convert_Text(_string):\n",
    "    \n",
    "    \"\"\"\n",
    "    Define this function such that it takes in a simple \n",
    "    string such as \"hello\" and outputs the corresponding\n",
    "    standard list of integers (ascii) for each letter in the word hello.\n",
    "    For example:\n",
    "    _string = hello\n",
    "    integer_list = [104, 101, 108, 108, 111]\n",
    "    You may use \"ord()\"\n",
    "    \"\"\"\n",
    "    \n",
    "    integer_list = []\n",
    "    \n",
    "    for character in _string:\n",
    "        integer_list.append(ord(character)) # use python built-in function to convert character to num\n",
    "    \n",
    "    return integer_list"
   ]
  },
  {
   "cell_type": "code",
   "execution_count": 3,
   "metadata": {},
   "outputs": [],
   "source": [
    "def Convert_Num(_list):\n",
    "    \n",
    "    \"\"\"\n",
    "    Do the opposite of what you did in the Convert_Text\n",
    "    function defined above.\n",
    "    \n",
    "    Define this function such that it takes in a list of integers\n",
    "    and outputs the corresponding string (ascii).\n",
    "    \n",
    "    For example:\n",
    "    _list = [104, 101, 108, 108, 111]\n",
    "    _string = hello\n",
    "    \"\"\"\n",
    "    \n",
    "    _string = ''\n",
    "    for i in _list:\n",
    "        _string += chr(i) # use python built-in function to convert num to char\n",
    "    return _string"
   ]
  },
  {
   "cell_type": "code",
   "execution_count": 4,
   "metadata": {},
   "outputs": [],
   "source": [
    "def Convert_Binary_String(_int):\n",
    "    \n",
    "    \"\"\"\n",
    "    Here, you need to define a function that converts an integer to\n",
    "    a string of its binary expansion.\n",
    "    \n",
    "    For example:\n",
    "    _int = 345\n",
    "    bits = 101011001\n",
    "    \"\"\"\n",
    "   \n",
    "    number = \"{0:b}\".format(_int) # use built-in function for python convert to binary\n",
    "    \n",
    "    return number"
   ]
  },
  {
   "cell_type": "markdown",
   "metadata": {},
   "source": [
    "Now that you're done with the basic toolset we'll move on to the first tool set which is actually involved in the RSA system."
   ]
  },
  {
   "cell_type": "markdown",
   "metadata": {},
   "source": [
    "### 2.2 \n",
    "#### First tool set.\n",
    "\n"
   ]
  },
  {
   "cell_type": "code",
   "execution_count": 5,
   "metadata": {},
   "outputs": [],
   "source": [
    "def FME(b, n, m):\n",
    "    \n",
    "    \"\"\"\n",
    "    1. Using the fast modular exponentiation algorithm,\n",
    "    the below function should return b**n mod m.\n",
    "    As described on page 254. (however, you may input the exponent and \n",
    "    then convert it to a string - the book verison imports the binary expansion)  \n",
    "    2. You should use the function defined above\n",
    "    Convert_Binary_String() if using the book algorithm.\n",
    "    3. Yes, there are many other ways to do this depending on which algorithm you have chosen.\n",
    "\n",
    "    ***UPDATE*** You may use the function you developed in your Mastery Workbook - but be sure it is your own work, commented, etc.. and change inputs as needed.\n",
    "    \"\"\"  \n",
    "    \n",
    "    # from mastery workbook\n",
    "    \n",
    "    x = 1 # given starting point for FME\n",
    "    power = b % m # = (b^1 mod m)\n",
    "    while (n > 0): # maintains i=0 to k-1\n",
    "        if (n & 1): # n = 1 in bit expansion\n",
    "            x = (x * power) % m # base to the 2 to the place in bit expansion\n",
    "        power = (power * power) % m # square the power\n",
    "        n >>= 1; # shift n by a power of 2 \n",
    "    return x # = b^n mod m"
   ]
  },
  {
   "cell_type": "code",
   "execution_count": 6,
   "metadata": {},
   "outputs": [],
   "source": [
    "def Euclidean_Alg(a, b):\n",
    "    \n",
    "    \"\"\"\n",
    "    1. Calculate the Greatest Common Divisor of a and b.\n",
    "    2. This version should have only postive inputs and outputs.\n",
    "    3. Consider \n",
    "    \n",
    "    The function must return a single integer 'x' which is\n",
    "    the gcd of a and b.\n",
    "    \"\"\"\n",
    "    \n",
    "    # from mastery workbook\n",
    "    \n",
    "    # while the modulus is more than 0\n",
    "    while b > 0:\n",
    "        \n",
    "        # remainder\n",
    "        k = a % b\n",
    "        \n",
    "        # adjust for next calculation\n",
    "        a = b\n",
    "        b = k\n",
    "        \n",
    "    # return gcd\n",
    "    return a"
   ]
  },
  {
   "cell_type": "markdown",
   "metadata": {},
   "source": [
    "### 2.3\n",
    "#### Second tool set\n",
    "\n",
    "Here we will implement the meat of the RSA cryptosystem. The functions below will generate the public and private key pairs which will then be used to create a ciphertext using the public key and then decode the same using the pirvate key.\n",
    "\n"
   ]
  },
  {
   "cell_type": "code",
   "execution_count": 7,
   "metadata": {},
   "outputs": [
    {
     "data": {
      "text/plain": [
       "(146963, 145007)"
      ]
     },
     "execution_count": 7,
     "metadata": {},
     "output_type": "execute_result"
    }
   ],
   "source": [
    "import random\n",
    "\n",
    "def Find_Public_Key_e(p, q):\n",
    "    \n",
    "    \"\"\"\n",
    "    Implement this function such that\n",
    "    it takes 2 primes p and q.\n",
    "    \n",
    "    Use the gcd function that you have \n",
    "    defined before.\n",
    "    \n",
    "    The function should return 2 elements as follows:\n",
    "    public key: n\n",
    "    public key: e\n",
    "    \n",
    "    HINT: this function will run a loop to find e such \n",
    "    that e is relatively prime to (p - 1) (q - 1) \n",
    "    and not equal to p or q.\n",
    "    \n",
    "    NOTE: There are a number of ways to implement this key feature. \n",
    "    The coder (you) can choose to how to acheive this goal.\n",
    "    \"\"\"\n",
    "    \n",
    "    n = p * q # given \n",
    "    testForPrime = (p-1)*(q-1) # given \n",
    "    \n",
    "    e = random.randrange(1, testForPrime) # starting random num to test\n",
    "    GCD = Euclidean_Alg(e, testForPrime) # starting GCD to test \n",
    "    \n",
    "    while GCD != 1: # stop once a relative prime is found\n",
    "        e = random.randrange(1, testForPrime) # use random function to generate a random number\n",
    "        if e != p and e != q: # make sure e isn't p or q\n",
    "            GCD = Euclidean_Alg(e, testForPrime) # calculate the gcd to evaluate in the while statement\n",
    "        \n",
    "    return (n, e)\n",
    "\n",
    "Find_Public_Key_e(281, 523)"
   ]
  },
  {
   "cell_type": "code",
   "execution_count": 8,
   "metadata": {},
   "outputs": [],
   "source": [
    "def Modular_Inverse(m, n):\n",
    "    \n",
    "    # get bezout's coefficients and gcd\n",
    "    (m, s1, t1) = Extended(m, n)\n",
    "    \n",
    "    # if not relative prime\n",
    "    if m != 1:\n",
    "        return -1\n",
    "    else:\n",
    "        # return modular inverse\n",
    "        return s1 % n \n",
    "    \n",
    "def Extended(m, n):\n",
    "    \n",
    "    # setting the initial values for the linear combination\n",
    "    s1 = 1 \n",
    "    t1 = 0 \n",
    "    s2 = 0 \n",
    "    t2 = 1 \n",
    "    \n",
    "    # while the modulus is more than 0\n",
    "    while n > 0:\n",
    "        \n",
    "        # remainder\n",
    "        k = m % n\n",
    "        \n",
    "        # quotient\n",
    "        q = m // n\n",
    "        \n",
    "        # adjust for next calculation\n",
    "        m = n\n",
    "        n = k\n",
    "        \n",
    "        # temp variables to hold values during the following calculations\n",
    "        s1Temp = s1\n",
    "        s2Temp = s2\n",
    "        t1Temp = t1\n",
    "        t2Temp = t2\n",
    "        \n",
    "        # calculate new coefficients\n",
    "        s1 = s2Temp\n",
    "        s2 = s1Temp - q * s2Temp\n",
    "        t1 = t2Temp\n",
    "        t2 = t1Temp - q * t2Temp\n",
    "        \n",
    "    # return gcd and bezout's coefficients\n",
    "    #print(m, s1, t1)\n",
    "    return m, s1, t1\n",
    "\n",
    "def Find_Private_Key_d(e, p, q):\n",
    "    \n",
    "    \"\"\"\n",
    "    Implement this method\n",
    "    to find the decryption exponent d such that\n",
    "    d is the modular inverse of e. \n",
    "    This will use the Extended Euclidean Algorithm\n",
    "    This function should return the following:\n",
    "    \n",
    "    d: the decryption component.\n",
    "    \n",
    "    This is not a single action, and there are multiple methods to create this. \n",
    "    You may create a helper function or have all code within this function.\n",
    "    Plan ahead before coding this.\n",
    "    \"\"\"\n",
    "    \n",
    "    testForPrime = (p-1)*(q-1) # given\n",
    "    d = Modular_Inverse(e, testForPrime) # given\n",
    "    return d"
   ]
  },
  {
   "cell_type": "markdown",
   "metadata": {},
   "source": [
    "### 3.\n",
    "#### Putting things all together.\n",
    "\n",
    "1. In this part, you will define two functions `Encode` and `Decode` which will use the public and private keys that you calculated using the above 2 functions in the second toolset.\n",
    "2. Using the public key, the `Encode` function will encode a message and generate the corresponding cipher_text.\n",
    "3. Using the private key, the `Decode` function will decode a ciper_text and recover the original message.\n",
    "\n"
   ]
  },
  {
   "cell_type": "code",
   "execution_count": 9,
   "metadata": {},
   "outputs": [],
   "source": [
    "def Encode(n, e, message):\n",
    "    \n",
    "    \"\"\"\n",
    "    Here, the message will be a string of characters.\n",
    "    Use the function Convert_Text from \n",
    "    the basic tool set and get a list of numbers.\n",
    "    \n",
    "    Encode each of those numbers using n and e and\n",
    "    return the encoded cipher_text.\n",
    "    \"\"\"\n",
    "    \n",
    "    cipher_text = []\n",
    "    original_text = Convert_Text(message)\n",
    "    tempNum = 0 \n",
    "    \n",
    "    # encode each number in the converted text and add to encoded array\n",
    "    for num in original_text:\n",
    "        tempNum = (num ** e) % n\n",
    "        cipher_text.append(tempNum)\n",
    "    \n",
    "    return cipher_text"
   ]
  },
  {
   "cell_type": "code",
   "execution_count": 10,
   "metadata": {},
   "outputs": [],
   "source": [
    "def Decode(n, d, cipher_text):\n",
    "    \n",
    "    \"\"\"\n",
    "    Here, the cipher_text will be a list of integers.\n",
    "    First, you will decrypt each of those integers using \n",
    "    n and d.\n",
    "    \n",
    "    Later, you will need to use the function Convert_Num, that converts the integers to a string, \n",
    "    from the basic toolset to recover the original message as a string. \n",
    "    \"\"\"\n",
    "    \n",
    "    decoded_num = []\n",
    "    tempNum = 0\n",
    "    message = ''\n",
    "    \n",
    "    # decode each number in the converted text and add to decoded array\n",
    "    for num in cipher_text:\n",
    "        tempNum = (num ** d) % n\n",
    "        decoded_num.append(tempNum)\n",
    "    \n",
    "    # convert num message to string\n",
    "    message = Convert_Num(decoded_num) \n",
    "        \n",
    "    return message"
   ]
  },
  {
   "cell_type": "markdown",
   "metadata": {
    "tags": []
   },
   "source": [
    "### 4.  Create a Demo \n",
    "This is a step by step guide to using your code with a specific example that we can follow using the functions you have created above in a mix of code and text blocks. \n",
    "Basically this is a test that demonstates that your code works.\n",
    "You will call the functions above. It is mix of code and **text blocks.** \n",
    "\n",
    "\n",
    "\n",
    "* Generate Keys - describing your method in the text block\n",
    "\n",
    "* Encode a message.\n",
    "\n",
    "* Decode a message from Piazza\n",
    "\n",
    "* Add new blocks by using the A and B keys - select text or code above.\n",
    "\n",
    "\n",
    "\n",
    "\n",
    "\n"
   ]
  },
  {
   "cell_type": "markdown",
   "metadata": {},
   "source": [
    "#### Generate keys"
   ]
  },
  {
   "cell_type": "code",
   "execution_count": 11,
   "metadata": {},
   "outputs": [
    {
     "data": {
      "text/plain": [
       "(1843, 149)"
      ]
     },
     "execution_count": 11,
     "metadata": {},
     "output_type": "execute_result"
    }
   ],
   "source": [
    "Find_Public_Key_e(97, 19)"
   ]
  },
  {
   "cell_type": "markdown",
   "metadata": {},
   "source": [
    "Generated output for piazza: Public Key (n, e) = (1843, 1253)\n",
    "\n",
    "=> To encode a message"
   ]
  },
  {
   "cell_type": "code",
   "execution_count": 12,
   "metadata": {},
   "outputs": [
    {
     "data": {
      "text/plain": [
       "1517"
      ]
     },
     "execution_count": 12,
     "metadata": {},
     "output_type": "execute_result"
    }
   ],
   "source": [
    "Find_Private_Key_d(1253, 97, 19)"
   ]
  },
  {
   "cell_type": "markdown",
   "metadata": {},
   "source": [
    "Generated output for piazza: Private Key (n, d) = (1843, 1517)\n",
    "\n",
    "=> To decode a message"
   ]
  },
  {
   "cell_type": "markdown",
   "metadata": {},
   "source": [
    "#### Encode a message"
   ]
  },
  {
   "cell_type": "markdown",
   "metadata": {},
   "source": [
    "Use the public key to encode each letter in the message string."
   ]
  },
  {
   "cell_type": "code",
   "execution_count": 13,
   "metadata": {},
   "outputs": [
    {
     "name": "stdout",
     "output_type": "stream",
     "text": [
      "[7, 1772, 1649, 756, 192, 1534, 590, 192, 961, 541, 67, 456, 192, 1379, 1649, 1080, 541, 456, 1534, 756, 1024, 192, 1099, 1772, 1534, 1389, 728, 1772, 541, 541, 728, 192, 1191, 1024, 1191, 541, 456, 961, 55]\n"
     ]
    }
   ],
   "source": [
    "publicN = 1843\n",
    "publicE = 1253\n",
    "messageToEncode = \"What is your favorite childhood memory?\"\n",
    "print(Encode(publicN, publicE, messageToEncode))"
   ]
  },
  {
   "cell_type": "markdown",
   "metadata": {
    "tags": []
   },
   "source": [
    "The above list of numbers represents the encoded message \"What is your favorite childhood memory?\""
   ]
  },
  {
   "cell_type": "markdown",
   "metadata": {},
   "source": [
    "#### Decode a message"
   ]
  },
  {
   "cell_type": "markdown",
   "metadata": {
    "tags": []
   },
   "source": [
    "Taken from the Piazza thread @82_f1. Use the provided private key which includes n = 5251 (public) and d = 3403 (private) to decode each number in the encoded number list. The function \"Decode\" returns a message string."
   ]
  },
  {
   "cell_type": "code",
   "execution_count": 14,
   "metadata": {},
   "outputs": [
    {
     "name": "stdout",
     "output_type": "stream",
     "text": [
      "Hello Earth\n"
     ]
    }
   ],
   "source": [
    "privateKeyN = 5251\n",
    "privateKeyD = 3403\n",
    "encodedMessage = [427, 1105, 4723, 4723, 2371, 1262, 2947, 4250, 762, 1349, 1150]\n",
    "print(Decode(privateKeyN, privateKeyD, encodedMessage))"
   ]
  },
  {
   "cell_type": "markdown",
   "metadata": {
    "tags": []
   },
   "source": [
    "### 5. When your code is working and you are able read and write message, include 3 complete examples of exhanging code here. \n",
    "Put BOTH the code and solutions HERE."
   ]
  },
  {
   "cell_type": "markdown",
   "metadata": {},
   "source": [
    "#### Example 1: @82_f1\n",
    "\n",
    "Public key n,e = (5251,3)\n",
    "\n",
    "Private key n,d = (5251, 3403)\n",
    "\n",
    "Encoded Message = [2128, 1150, 4250, 1349, 1262, 3336, 2371, 2497, 519, 1262, 1263, 1105, 3336, 1349, 1262, 2310, 1105, 3336, 4115, 762, 2405, 1263, 1105, 3336, 1262, 1349, 1150, 1105, 1262, 506, 1105, 1105, 4723, 2405, 2497, 519, 1262, 1974, 2371, 58, 1262, 519, 1105, 1349, 1262, 4839, 1150, 1105, 2497, 1262, 1974, 2371, 58, 762, 1262, 13, 4679, 1573, 1262, 4115, 2371, 2310, 1105, 1262, 2405, 3336, 1262, 4839, 2371, 762, 1560, 2405, 2497, 519, 3250]\n",
    "\n",
    "-->\n",
    "\n",
    "[4623, 2371, 2497, 1558, 1349, 1262, 4679, 1349, 2371, 2911, 1262, 4947, 1105, 1262, 1962, 2371, 4839, 1262, 1263, 1974, 1262, 1090, 58, 1105, 1105, 2497]"
   ]
  },
  {
   "cell_type": "code",
   "execution_count": 15,
   "metadata": {},
   "outputs": [
    {
     "name": "stdout",
     "output_type": "stream",
     "text": [
      "Message 1:  What song best describes the feeling you get when your RSA code is working? \n",
      "\n",
      "Message 2:  Don't Stop Me Now by Queen \n",
      "\n"
     ]
    }
   ],
   "source": [
    "privateKeyN = 5251\n",
    "privateKeyD = 3403\n",
    "\n",
    "encodedMessage = [2128, 1150, 4250, 1349, 1262, 3336, 2371, 2497, 519, 1262, 1263, 1105, 3336, 1349, 1262, 2310, 1105, 3336, 4115, 762, 2405, 1263, 1105, 3336, 1262, 1349, 1150, 1105, 1262, 506, 1105, 1105, 4723, 2405, 2497, 519, 1262, 1974, 2371, 58, 1262, 519, 1105, 1349, 1262, 4839, 1150, 1105, 2497, 1262, 1974, 2371, 58, 762, 1262, 13, 4679, 1573, 1262, 4115, 2371, 2310, 1105, 1262, 2405, 3336, 1262, 4839, 2371, 762, 1560, 2405, 2497, 519, 3250]\n",
    "print(\"Message 1: \", Decode(privateKeyN, privateKeyD, encodedMessage), \"\\n\")\n",
    "\n",
    "encodedMessage = [4623, 2371, 2497, 1558, 1349, 1262, 4679, 1349, 2371, 2911, 1262, 4947, 1105, 1262, 1962, 2371, 4839, 1262, 1263, 1974, 1262, 1090, 58, 1105, 1105, 2497]\n",
    "print(\"Message 2: \", Decode(privateKeyN, privateKeyD, encodedMessage), \"\\n\")\n"
   ]
  },
  {
   "cell_type": "markdown",
   "metadata": {},
   "source": [
    "#### Example 2: 82_f12\n",
    "\n",
    "Public key n,e = (4171, 9827)\n",
    "\n",
    "Private key n,d = (4171, 3275)\n",
    "\n",
    "Encoded Message = [1839, 1368, 2103, 489, 1708, 240, 2103, 3966, 1708, 240, 2, 169, 2103, 1044, 1552, 1157, 3807, 2103, 1708, 1041, 3807, 2103, 691, 240, 2757, 3807, 1224, 2757, 1708, 3470, 3807, 1224, 2103, 3470, 1044, 1552, 2785, 2103, 3470, 1708, 240, 2, 169, 2103, 2743, 2785, 2103, 2426, 3807, 2103, 1552, 1041, 169, 2103, 1044, 1708, 3470, 2103, 3470, 1708, 240, 2, 169, 2103, 489, 1708, 240, 2103, 240, 691, 3807, 2103, 2743, 2785, 1533]\n",
    "\n",
    "-->\n",
    "\n",
    "[1839, 2103, 3470, 1708, 240, 2, 169, 2103, 1044, 1552, 1157, 3807, 2103, 2785, 1044, 3807, 2103, 2757, 1708, 3470, 3807, 1224, 2103, 2785, 1708, 2103, 3966, 1708, 1041, 2785, 1224, 1708, 2, 2103, 3470, 1552, 2785, 3807, 1224, 2103, 2426, 3807, 3966, 1552, 240, 691, 3807, 2103, 1839, 2103, 2, 1708, 1157, 3807, 2103, 1224, 1552, 2743, 1041]"
   ]
  },
  {
   "cell_type": "code",
   "execution_count": 16,
   "metadata": {},
   "outputs": [
    {
     "name": "stdout",
     "output_type": "stream",
     "text": [
      "Message 1:  If you could have one superpower what would it be and how would you use it? \n",
      "\n",
      "Message 2:  I would have the power to control water because I love rain \n",
      "\n"
     ]
    }
   ],
   "source": [
    "privateKeyN = 4171\n",
    "privateKeyD = 3275\n",
    "\n",
    "encodedMessage = [1839, 1368, 2103, 489, 1708, 240, 2103, 3966, 1708, 240, 2, 169, 2103, 1044, 1552, 1157, 3807, 2103, 1708, 1041, 3807, 2103, 691, 240, 2757, 3807, 1224, 2757, 1708, 3470, 3807, 1224, 2103, 3470, 1044, 1552, 2785, 2103, 3470, 1708, 240, 2, 169, 2103, 2743, 2785, 2103, 2426, 3807, 2103, 1552, 1041, 169, 2103, 1044, 1708, 3470, 2103, 3470, 1708, 240, 2, 169, 2103, 489, 1708, 240, 2103, 240, 691, 3807, 2103, 2743, 2785, 1533]\n",
    "print(\"Message 1: \", Decode(privateKeyN, privateKeyD, encodedMessage), \"\\n\")\n",
    "\n",
    "encodedMessage = [1839, 2103, 3470, 1708, 240, 2, 169, 2103, 1044, 1552, 1157, 3807, 2103, 2785, 1044, 3807, 2103, 2757, 1708, 3470, 3807, 1224, 2103, 2785, 1708, 2103, 3966, 1708, 1041, 2785, 1224, 1708, 2, 2103, 3470, 1552, 2785, 3807, 1224, 2103, 2426, 3807, 3966, 1552, 240, 691, 3807, 2103, 1839, 2103, 2, 1708, 1157, 3807, 2103, 1224, 1552, 2743, 1041]\n",
    "print(\"Message 2: \", Decode(privateKeyN, privateKeyD, encodedMessage), \"\\n\")\n"
   ]
  },
  {
   "cell_type": "markdown",
   "metadata": {},
   "source": [
    "#### Example 3: @82_f16\n",
    "\n",
    "Public key n,e = (1843, 1253)\n",
    "\n",
    "Private key n,d = (1843, 1517)\n",
    "\n",
    "Encoded message = [7, 1772, 1649, 756, 192, 1534, 590, 192, 961, 541, 67, 456, 192, 1379, 1649, 1080, 541, 456, 1534, 756, 1024, 192, 1099, 1772, 1534, 1389, 728, 1772, 541, 541, 728, 192, 1191, 1024, 1191, 541, 456, 961, 55]\n",
    "\n",
    "-->\n",
    "\n",
    "[52, 1389, 1534, 1379, 1379, 192, 558, 67, 1191, 156, 1534, 1238, 1665, 192, 1089, 1534, 756, 1772, 192, 1191, 961, 192, 728, 1649, 728, 192, 1649, 756, 192, 1524, 192, 961, 1024, 1649, 456, 590, 192, 541, 1389, 728, 192, 1534, 1238, 192, 411, 1024, 587, 1649, 590]"
   ]
  },
  {
   "cell_type": "code",
   "execution_count": 17,
   "metadata": {},
   "outputs": [
    {
     "name": "stdout",
     "output_type": "stream",
     "text": [
      "Message 1:  What is your favorite childhood memory? \n",
      "\n",
      "Message 2:  Cliff jumping with my dad at 7 years old in Texas \n",
      "\n"
     ]
    }
   ],
   "source": [
    "privateKeyN = 1843\n",
    "privateKeyD = 1517\n",
    "\n",
    "encodedMessage = [7, 1772, 1649, 756, 192, 1534, 590, 192, 961, 541, 67, 456, 192, 1379, 1649, 1080, 541, 456, 1534, 756, 1024, 192, 1099, 1772, 1534, 1389, 728, 1772, 541, 541, 728, 192, 1191, 1024, 1191, 541, 456, 961, 55]\n",
    "print(\"Message 1: \", Decode(privateKeyN, privateKeyD, encodedMessage), \"\\n\")\n",
    "\n",
    "encodedMessage = [52, 1389, 1534, 1379, 1379, 192, 558, 67, 1191, 156, 1534, 1238, 1665, 192, 1089, 1534, 756, 1772, 192, 1191, 961, 192, 728, 1649, 728, 192, 1649, 756, 192, 1524, 192, 961, 1024, 1649, 456, 590, 192, 541, 1389, 728, 192, 1534, 1238, 192, 411, 1024, 587, 1649, 590]\n",
    "print(\"Message 2: \", Decode(privateKeyN, privateKeyD, encodedMessage), \"\\n\")"
   ]
  },
  {
   "cell_type": "markdown",
   "metadata": {},
   "source": [
    "### 6. Write a Narrative (TWO pages of meaningful narrative about your process - not including the examples - about 800 words) here in this block. **\n",
    "\n",
    "* Describe the results of exchanging keys and codes with classmates. Did it work the first time or did you need to make adjustments.\n",
    "\n",
    "* Describe your process. Did you plan ahead? Did you wing it? Do you wish you'd planned ahead more?\n",
    "\n",
    "* What was challenging? \n",
    "\n",
    "* Who helped you with your project? \n",
    "\n",
    "* Which resources were most helpful?\n",
    "\n",
    "* What was your Best Mistake, (funniest? most frustrating? the one you learned the most from?)\n",
    "\n",
    "\n",
    "\n",
    "\n",
    "\n"
   ]
  },
  {
   "cell_type": "markdown",
   "metadata": {},
   "source": [
    "#### Describe the results of exchanging keys and codes with classmates. Did it work the first time or did you need to make adjustments.\n",
    "\n",
    "I did a lot of testing before exchanging keys and codes with classmates, so my codes worked the first time. On occasion, I would use e instead of d to decode which would result in a briefly confusing error. However, this was easily realized and fixed with examination. I really enjoyed exchanging codes with my classmates. It made me realize how useful and broadly applicable this tool is and why. The potential for mass communication of sensitive information is remarkable and I cannot wait to find out more about the additional tools that were built on top of RSA to make it an even safer method. \n",
    "\n",
    "#### Describe your process. Did you plan ahead? Did you wing it? Do you wish you'd planned ahead more?\n",
    "\n",
    "The Jupyter workbook was so structured that I didn’t really need to plan ahead. I did plan ahead when I did the Euclidean Algorithm, Extended Euclidean Algorithm, and FME on the Mastery Workbook, but that was already complete before this project. For those algorithms, it was helpful for me to start with the calculations I knew would be within the algorithm, write out everything I could, add comments for the things I didn’t, and then work on the commented areas individually. Overall, I think decreasing the size of the problem into digestible parts and creating visuals of the algorithms helped me the most in getting through challenging problems. I think the skill that got me through this project the most was seeing each component in even smaller components and tracking my progress throughout the weeks leading up to the due date. This project was very applicable to the real world, so it was easy for me to stay motivated and come back to it to do a little each day. I think for future projects, I will try to find ways to connect the material to the real world so that I can find the motivation for daily practice. \n",
    "\n",
    "#### What was challenging?\n",
    "\n",
    "The custom code feature and the narratives. The custom code feature was incredibly motivating, but also the most difficult part because it had the least amount of structure. I enjoy making user interfaces, so that felt like the best option for me even though it involved a few things that I didn’t know. I had to spend a good amount of time on regular expressions to understand their power and apply them properly. I had to spend some time understanding how to read and write to files through python, which is something I have always struggled with. I am happy to say that I now feel fully comfortable with it with the added bonus of being able to manipulate the data read from the file. The narrative pieces are hard for me, but not in the way the coding information is. I generally procrastinate anything writing or English related, so I had to specifically give myself small bits of the narratives to write at a time with a lot of breaks because I have so much difficulty focusing on it. I am always proud when I am able to complete a longer writing task. \n",
    "\n",
    "#### Who helped you with your project?\n",
    "\n",
    "I didn’t receive help from anyone on this project, although I did a lot of research on regular expressions and reading files on various python sites. In addition, I did some background research on RSA for the introduction and to generally understand what I was building for the introductory paragraphs. \n",
    "\n",
    "#### Which resources were most helpful?\n",
    "\n",
    "I found the videos on RSA encryption and the corresponding algorithms to be incredibly helpful. I returned to them many times over the course of the project. In addition, the Number Theory Mastery Workbook and the Cryptography Mastery Workbook were instrumental to the process because I had already done the most difficult parts of the project before even starting. The decode/encode question on the cryptography mastery workbook, although simple, helped me to feel comfortable and knowledgeable with the process when I came to the encode/decode part of the project. I also returned to Khan academy’s videos on cryptography often. They are a very clear and concise reference for the concepts that we have been revisiting over and over for the past few weeks. They do great color-coding in their articles which helped the information to really stick. \n",
    "\n",
    "#### What was your Best Mistake, (funniest? most frustrating? the one you learned the most from?)\n",
    "\n",
    "My favorite mistake was messing up any decoding, whether it was from an error in my code or entering the wrong values. A series of unrecognizable characters would pop up just as I was expecting a very English, very understandable string. I had many gasps of exasperation and giggles each time, which honestly just made the whole thing more enjoyable because it was never something I couldn’t work through quickly. "
   ]
  },
  {
   "cell_type": "markdown",
   "metadata": {},
   "source": [
    "### 7. FME Exploration - (CODE INTERVIEW type question)\n",
    "\n",
    "\n",
    "\n",
    "* Explain in detail why RSA needs to use an FME function and cannot just simply use the Python Mod function % .\n",
    "\n",
    "* You may use your arguments from the Number theory Mastery Workbook.\n",
    "\n",
    "* Simple examples can be used or charts and graphs.\n"
   ]
  },
  {
   "cell_type": "markdown",
   "metadata": {},
   "source": [
    "The built-in python mod (%) function performs well for small exponent values (<1000). However, as the exponent grows, the FME function starts to vastly out-perform the built-in mod function. For most practical RSA applications, the exponent for the function will be over 1000 and therefore will overwhelm the modular function more than the true FME function. "
   ]
  },
  {
   "cell_type": "markdown",
   "metadata": {},
   "source": [
    "## CODE BREAKING ##\n",
    "\n",
    "This section of the project is only available to students exchanging codes by the Friday (midnight) before the project is due.\n",
    "\n",
    "After you have tested your RSA package yourself, and tested it with classmates by publishing both the private and public keys on Piazza, post 2 messages with just the public keys for people to break on the \"Just Public Keys\" thread - use both very small n ‘s (under 1000) for practice, and some with a challenge.\n",
    "\n",
    "\n",
    "**Implementing a factoring algorithm:**\n",
    "\n",
    "Begin by coding the basic brute force factorization algorithm given in pseudocode below.\n",
    "\n",
    "Brute Force Factoring\n",
    "<pre><code>def factorize(n):\n",
    "    # n is a number, return the smallest factor of n\n",
    "    for i from 2 to n-1:\n",
    "        if i divides n:\n",
    "            return i\n",
    "        return FALSE\n",
    "        </code></pre>\n"
   ]
  },
  {
   "cell_type": "markdown",
   "metadata": {},
   "source": [
    "#### Encoded Post to Piazza (varying levels of difficulty)"
   ]
  },
  {
   "cell_type": "code",
   "execution_count": 18,
   "metadata": {},
   "outputs": [
    {
     "name": "stdout",
     "output_type": "stream",
     "text": [
      "Encoded message 1:  [38, 6, 9, 24, 6, 261, 9, 241, 6, 9, 241, 152, 24, 261, 54, 152, 9, 154, 24, 261, 6, 9, 261, 258, 69, 261, 9, 241, 6, 6, 256, 9, 24, 154, 241, 258, 261, 2] \n",
      "\n",
      "Encoded message 2:  [139400, 5116, 117334, 75951, 5116, 43496, 49351, 125146, 34484, 43496, 34484, 24912, 48572, 121093, 43496, 101277, 21713, 15322, 21713, 49351, 48572, 21713, 94975, 43496, 34484, 24912, 48572, 121093, 43496, 53527, 24912, 144326, 144326, 21713, 94975, 43496, 34484, 24912, 48572, 121093, 43496, 53527, 24912, 5116, 121910, 43496, 47536, 81177, 81177, 58111, 43496, 143297, 24912, 34484, 34484, 101277, 5116, 43496, 34484, 24912, 48572, 121093, 43496, 121494, 9394, 24912, 5116, 123812, 43496, 5116, 49351, 49351, 15322, 58111] \n",
      "\n"
     ]
    }
   ],
   "source": [
    "message1 = \"Do not go gentle into that good night.\"\n",
    "message2 = \"We've got tiny lasagna, tiny pizza, tiny pie. Mmm! Little tiny fried eggs!\"\n",
    "\n",
    "print(\"Encoded message 1: \", Encode(287, 23, message1), \"\\n\")\n",
    "print(\"Encoded message 2: \", Encode(146963, 6361, message2), \"\\n\")"
   ]
  },
  {
   "cell_type": "markdown",
   "metadata": {},
   "source": [
    "#### Code-Breaking Algorithms"
   ]
  },
  {
   "cell_type": "code",
   "execution_count": 19,
   "metadata": {},
   "outputs": [],
   "source": [
    "def factorize(n):\n",
    "    \n",
    "    # n is a number, return the smallest factor of n\n",
    "    factors = []\n",
    "    \n",
    "    # find all factors of number n which should only have 2 prime factors\n",
    "    for i in range(2, n-1):\n",
    "        if n % i == 0:\n",
    "            factors.append(i)\n",
    "    \n",
    "    return factors\n",
    "\n",
    "def findD(p, q, e):\n",
    "    \n",
    "    # find d with the method used to generate a private key (in function \"Decode\")\n",
    "    testForPrime = (p-1)*(q-1)\n",
    "    d = Modular_Inverse(e, testForPrime)\n",
    "    return d\n",
    " \n",
    "def tryDecode(n, e, encodedMessage):\n",
    "    # use n, p, q, to find d and decode as usual\n",
    "    nList = factorize(n)\n",
    "    p = nList[0]\n",
    "    q = nList[1]\n",
    "    d = findD(p, q, e)\n",
    "    return Decode(n, d, encodedMessage)"
   ]
  },
  {
   "cell_type": "markdown",
   "metadata": {
    "tags": []
   },
   "source": [
    "### 8. How to Break Code. \n",
    "* Explain in detail how breaking works in this text block. \n",
    "* What are the complete steps? What tools do you need?\n",
    "* How secure is RSA? Why is it difficult to break codes in RSA? \n",
    "* Is our implementation of RSA secure? What are it's flaws?\n",
    "\n",
    "\n",
    "\n",
    "\n",
    "\n",
    "\n",
    "\n"
   ]
  },
  {
   "cell_type": "markdown",
   "metadata": {},
   "source": [
    "The main tool you need for breaking RSA encryption is prime factorization, which is quite simple with small numbers, but can become remarkably complex very quickly as the numbers increase in size. \n",
    "\n",
    "Steps\n",
    "1. Factor the public N to find p and q\n",
    "2. Use p, q, and e to find the modular inverse of e and (p-1)(q-1), which will give you d\n",
    "3. Use d to decode the message\n",
    "\n",
    "Given a sufficiently large key, RSA is virtually impossible to break in a reasonable period of time because of the current computing power we have. Our current implementation of RSA is NOT secure because we are using keys that are too small to be secure. Someone could break the keys in a matter of minutes, whereas a sufficiently large key could potentially take millions of lifetimes to break. "
   ]
  },
  {
   "cell_type": "markdown",
   "metadata": {},
   "source": [
    "### 9. Decode!  Use a mix of text and code blocks\n",
    "\n",
    "* Decode one example from Piazza in detail showing all the steps.\n",
    "* Decode and Respond to 3 \"just codes with public keys\" in Piazza with different sizes of n. Include complete results here.\n",
    "* What did you notice about larger n s?\n"
   ]
  },
  {
   "cell_type": "markdown",
   "metadata": {},
   "source": [
    "#### Decode example from Piazza"
   ]
  },
  {
   "cell_type": "code",
   "execution_count": 20,
   "metadata": {},
   "outputs": [
    {
     "name": "stdout",
     "output_type": "stream",
     "text": [
      "Decoded message:  The Conquistador's treasure is buried south of Creed.\n"
     ]
    }
   ],
   "source": [
    "encodedMessage = [544, 472, 233, 242, 250, 555, 591, 550, 376, 364, 210, 165, 526, 47, 555, 95, 476, 210, 242, 165, 95, 233, 526, 210, 376, 95, 233, 242, 364, 210, 242, 224, 376, 95, 364, 233, 47, 242, 210, 555, 376, 165, 472, 242, 555, 410, 242, 250, 95, 233, 233, 47, 145]\n",
    "print(\"Decoded message: \", tryDecode(703, 113, encodedMessage))"
   ]
  },
  {
   "cell_type": "markdown",
   "metadata": {},
   "source": [
    "#### Decode 3 \"just codes with public keys\""
   ]
  },
  {
   "cell_type": "code",
   "execution_count": 21,
   "metadata": {},
   "outputs": [
    {
     "name": "stdout",
     "output_type": "stream",
     "text": [
      "Decoded message 1:  The Conquistador's treasure is buried south of Creed.\n",
      "Time elapsed:  0.0004360675811767578 \n",
      "\n",
      "Decoded message 2:  The best thing about a Boolean is even if you are wrong, you are only off by a bit.\n",
      "Time elapsed:  3.4381632804870605 \n",
      "\n",
      "Decoded message 3:  Move our battleship to B5 at once!\n",
      "Time elapsed:  0.0009813308715820312 \n",
      "\n",
      "Decoded message 4:  sound delicious!\n",
      "Time elapsed:  0.22414159774780273 \n",
      "\n"
     ]
    }
   ],
   "source": [
    "import time\n",
    "\n",
    "encodedMessage1 = [544, 472, 233, 242, 250, 555, 591, 550, 376, 364, 210, 165, 526, 47, 555, 95, 476, 210, 242, 165, 95, 233, 526, 210, 376, 95, 233, 242, 364, 210, 242, 224, 376, 95, 364, 233, 47, 242, 210, 555, 376, 165, 472, 242, 555, 410, 242, 250, 95, 233, 233, 47, 145]\n",
    "encodedMessage2 = [85308, 48594, 15927, 71285, 61037, 15927, 767, 23406, 71285, 23406, 48594, 12676, 37298, 100459, 71285, 90170, 61037, 38946, 38783, 23406, 71285, 90170, 71285, 113492, 38946, 38946, 86792, 15927, 90170, 37298, 71285, 12676, 767, 71285, 15927, 121493, 15927, 37298, 71285, 12676, 84628, 71285, 29228, 38946, 38783, 71285, 90170, 110238, 15927, 71285, 81798, 110238, 38946, 37298, 100459, 126494, 71285, 29228, 38946, 38783, 71285, 90170, 110238, 15927, 71285, 38946, 37298, 86792, 29228, 71285, 38946, 84628, 84628, 71285, 61037, 29228, 71285, 90170, 71285, 61037, 12676, 23406, 10510]\n",
    "encodedMessage3 = [533, 263, 707, 956, 184, 263, 1124, 551, 184, 1257, 800, 477, 477, 127, 956, 1464, 598, 1036, 93, 184, 477, 263, 184, 1149, 623, 184, 800, 477, 184, 263, 547, 1201, 956, 14]\n",
    "encodedMessage4 = [15322, 125146, 56170, 48572, 123812, 43496, 123812, 5116, 101277, 24912, 91810, 24912, 125146, 56170, 15322, 58111]\n",
    "\n",
    "startTime = time.time()\n",
    "print(\"Decoded message 1: \", tryDecode(703, 113, encodedMessage1))\n",
    "endTime = time.time()\n",
    "print(\"Time elapsed: \", endTime-startTime, \"\\n\")\n",
    "\n",
    "startTime = time.time()\n",
    "print(\"Decoded message 2: \", tryDecode(130177, 13, encodedMessage2))\n",
    "endTime = time.time()\n",
    "print(\"Time elapsed: \", endTime-startTime, \"\\n\")\n",
    "\n",
    "startTime = time.time()\n",
    "print(\"Decoded message 3: \", tryDecode(1501, 37, encodedMessage3))\n",
    "endTime = time.time()\n",
    "print(\"Time elapsed: \", endTime-startTime, \"\\n\")\n",
    "\n",
    "startTime = time.time()\n",
    "print(\"Decoded message 4: \", tryDecode(146963, 6361, encodedMessage4))\n",
    "endTime = time.time()\n",
    "print(\"Time elapsed: \", endTime-startTime, \"\\n\")\n"
   ]
  },
  {
   "cell_type": "markdown",
   "metadata": {},
   "source": [
    "**Note: Larger n's result in more time required to decode the message.**"
   ]
  },
  {
   "cell_type": "markdown",
   "metadata": {},
   "source": [
    "#### Responses to 3 Piazza Messages"
   ]
  },
  {
   "cell_type": "code",
   "execution_count": 22,
   "metadata": {},
   "outputs": [
    {
     "name": "stdout",
     "output_type": "stream",
     "text": [
      "Response 1:  [373, 581, 233, 242, 523, 526, 165, 233, 581, 157, 242, 581, 555, 376, 476, 90, 90, 242, 591, 233, 416, 233, 95, 242, 410, 364, 591, 47, 242, 165, 472, 233, 242, 165, 95, 233, 526, 210, 376, 95, 233, 86] \n",
      "\n",
      "Response 2:  [85308, 48594, 15927, 110238, 15927, 71285, 90170, 110238, 15927, 71285, 38946, 37298, 86792, 29228, 71285, 81670, 115640, 71285, 23406, 29228, 114803, 15927, 767, 71285, 38946, 84628, 71285, 114803, 15927, 38946, 114803, 86792, 15927, 71285, 12676, 37298, 71285, 23406, 48594, 15927, 71285, 81798, 38946, 110238, 86792, 38831, 71285, 102028, 71285, 23406, 48594, 38946, 767, 15927, 71285, 81798, 48594, 38946, 71285, 38783, 37298, 38831, 15927, 110238, 767, 23406, 90170, 37298, 38831, 71285, 61037, 12676, 37298, 90170, 110238, 29228, 126494, 71285, 90170, 37298, 38831, 71285, 23406, 48594, 38946, 767, 15927, 71285, 81798, 48594, 38946, 71285, 38831, 38946, 37298, 11725, 23406, 10510] \n",
      "\n",
      "Response 3:  [643, 477, 628, 1464, 184, 800, 184, 598, 1036, 477, 14, 184, 1395, 1257, 800, 547, 936, 263, 547, 184, 1464, 598, 1036, 93, 14, 184, 558, 800, 707, 956, 184, 477, 598, 956, 184, 1201, 598, 1036, 127, 936, 551, 956, 547, 14] \n",
      "\n"
     ]
    }
   ],
   "source": [
    "response1 = \"Aye matey, you'll never find the treasure!\"\n",
    "response2 = \"There are only 10 types of people in the world – those who understand binary, and those who don’t.\"\n",
    "response3 = \"It's a hit! Abandon ship! Save the children!\"\n",
    "\n",
    "print(\"Response 1: \", Encode(703, 113, response1), \"\\n\")\n",
    "print(\"Response 2: \", Encode(130177, 13, response2), \"\\n\")\n",
    "print(\"Response 3: \", Encode(1501, 37, response3), \"\\n\")\n"
   ]
  },
  {
   "cell_type": "markdown",
   "metadata": {},
   "source": [
    "\n",
    "\n",
    "\n"
   ]
  },
  {
   "cell_type": "markdown",
   "metadata": {},
   "source": [
    "\n",
    "### 10. Custom CODE Feature ##\n",
    "The last 15 points of the require a custom feature in your project. This is an opportinity for you to explore an RSA or coding topic of interest to you. At this point it is not about points, but exploring advanced ideas relevant to you.  This is also a feature that should be relevant to your programming ability. If you are in 1300, creating a main type function may be enough. If you are an experienced programmer, find a topic to push yourself. \n",
    "\n",
    "* The custom feature should be a \"Stand Alone\" feature at the end of the notebook.\n",
    "* If you want to use code from above, please copy the functions again as part of your feature so it can be tested independently.\n",
    "* Be sure to provide a demo of your feature showing that it works. This is a good check for you, shows us it works, and helps us if we are unable to get your feature to work when grading.\n",
    "* Do not forget the self-grading element.\n",
    "\n",
    "Custom Features could one or more of the following:\n",
    "\n",
    "1. Code breaking improvements. An exploration of factoring improvements and analyze how effective they are. Must include some kind of timing analysis and multiple code breaking. A superficial treatment will not recieve full points. Must be throughly tested with excellent investigations to recieve full points.\n",
    "2. A Python \"main\" function that allows a user to \"Get keys/Encode/Decode/Break Codes\" etc... This can use elements of initial RSA code above HOWEVER - Please copy and pan should be organized below. *Please include your complete new implementation below.*\n",
    "3. A script to read codes from Piazza data. You can copy and paste codes from Piazza into a txt files and then have your script read it. This is a VERY helpful tool for doing the project as well. \n",
    "4. Exploration of advanced factoring alogrithms (see Moodle) Try Pollard's Rho <- super satisfying. (full points if well - impemented with thoughtful examples). \n",
    "5. Advanced complexity analysis. \n",
    "6. Frequency anaylsis from our Piazza post.\n",
    "7. A deep dive in the mathematics of the RSA proofs.\n",
    "8. Advance code breaking challenges with  - this should be anorganized and well documented effort.\n",
    "9. More options available, all include a coding element. Please ask is you have an unique idea. \n",
    "\n",
    "The Custom Feature is an important part of the project, and it should be a non-trivial response. \n",
    "Please help organize your Custom Feature by breaking it up into sections - ie. not one long block of text.\n",
    "Mininimally executed, \"dialling it in\" type features will not recieve full points. \n",
    "See below for more detials on grading of this section.\n",
    "\n",
    "\n",
    "\n",
    " \n",
    "\n",
    "\n"
   ]
  },
  {
   "cell_type": "code",
   "execution_count": 23,
   "metadata": {},
   "outputs": [
    {
     "name": "stdin",
     "output_type": "stream",
     "text": [
      "encode or decode?\n",
      " encode\n",
      "type or read a file?\n",
      " type\n",
      " Enter n:  9078\n",
      " Enter e: 54\n",
      " Enter message to encode:  test\n"
     ]
    },
    {
     "name": "stdout",
     "output_type": "stream",
     "text": [
      "[4588, 7243, 1801, 4588]\n"
     ]
    },
    {
     "name": "stdin",
     "output_type": "stream",
     "text": [
      "continue or exit?\n",
      " exit\n"
     ]
    },
    {
     "name": "stdout",
     "output_type": "stream",
     "text": [
      "\n",
      "Have a nice day!\n"
     ]
    }
   ],
   "source": [
    "import re\n",
    "\n",
    "programAction = \"continue\"\n",
    "\n",
    "while programAction == \"continue\": \n",
    "    \n",
    "    userChoice1 = input(\"encode or decode?\" + \"\\n\")\n",
    "    userChoice2 = input(\"type or read a file?\" + \"\\n\")\n",
    "    \n",
    "    if userChoice1 == \"encode\" and userChoice2 == \"type\":\n",
    "        publicN = input(\" Enter n: \")\n",
    "        publicE = input(\" Enter e:\")\n",
    "        message = input(\" Enter message to encode: \")\n",
    "        print(Encode(int(publicN), int(publicE), str(message)))\n",
    "\n",
    "    elif userChoice1 == \"decode\" and userChoice2 == \"type\":\n",
    "        privateN = input(\" Enter n: \")\n",
    "        privateD = input(\" Enter d:\")\n",
    "        text = input(\"  Enter message to decode: \")\n",
    "        print(Decode(privateN, privateD, text))\n",
    "\n",
    "    elif userChoice1 == \"encode\" and userChoice2 == \"read a file\":\n",
    "\n",
    "        try:\n",
    "            with open('E_ToEncode.txt','r') as readFile, open('E_Encoded.txt', 'w') as writeFile:\n",
    "                codes = readFile.readlines()\n",
    "\n",
    "                for code in codes:\n",
    "                    if code.strip():\n",
    "                        publicN = \"\".join(code.split(',')[0]) \n",
    "                        publicE = \"\".join(code.split(',')[1])\n",
    "                        message = \"\".join(code.split(',')[2])\n",
    "\n",
    "                        encodedMessage = Encode(int(publicN), int(publicE), str(message))\n",
    "                        writeString = \"Encoded message = \" + str(encodedMessage) + \"\\n\\n\"\n",
    "                        writeFile.write(writeString) \n",
    "                        print(\" The following message was added to file: \", \"\\n\", encodedMessage)\n",
    "\n",
    "        except Exception as e:\n",
    "            print(\"Error:\",str(e))\n",
    "\n",
    "        finally:\n",
    "            readFile.close()\n",
    "            writeFile.close()\n",
    "    \n",
    "    elif userChoice1 == \"decode\" and userChoice2 == \"read a file\":\n",
    "\n",
    "        try:\n",
    "            with open('D_ToDecode.txt','r') as readFile, open('D_Decoded.txt', 'w') as writeFile:\n",
    "                codes = readFile.readlines()\n",
    "\n",
    "                for code in codes:\n",
    "                    privateN = \"\".join(code.split(',')[0]) \n",
    "                    privateD = \"\".join(code.split(',')[1])\n",
    "                    rawMessage = re.search(\"(?<=\\[)(.*)(?=\\])\", code).group(0)\n",
    "                    message = rawMessage.split(\", \")\n",
    "                    mapToInt = map(int, message)\n",
    "                    message = list(mapToInt)\n",
    "                    #print(\" Entered: \", privateN, privateD, str(message))\n",
    "\n",
    "                    decodedMessage = Decode(int(privateN), int(privateD), message)\n",
    "                    writeString = \"Private key n,d = \" + str(privateN) + \", \" + str(privateD) + \"; \" + str(message) + \" ==> \" + str(decodedMessage) + \"\\n\\n\"\n",
    "                    writeFile.write(writeString) \n",
    "                    print(\" Added to file: \", decodedMessage)\n",
    "\n",
    "        except Exception as e:\n",
    "            print(\"Error:\",str(e))\n",
    "\n",
    "        finally:\n",
    "            readFile.close()\n",
    "            writeFile.close()\n",
    "    \n",
    "    programAction = input(\"continue or exit?\" + \"\\n\")\n",
    "\n",
    "print(\"\\n\" + \"Have a nice day!\")"
   ]
  },
  {
   "cell_type": "markdown",
   "metadata": {},
   "source": [
    "**Please use the grading guide below to self grade your Custom Feature.**\n",
    "\n",
    "GRADING FOR CUSTOM FEATURE:\n",
    "\n",
    "15 pts  Wow.  It is amazing.\n",
    "        Shows initiative and originality. \n",
    "        You did something extra special and pushed yourself.\n",
    "        You went beyond all expectations \n",
    "        You broke the rules in a creative way. \n",
    "        Your coding and commenting is exceptional.\n",
    "        Excellent \n",
    "\n",
    "10 - 14 points - It is GOOD! \n",
    "        You were a “self starter”. \n",
    "         You did everything  requested. \n",
    "        All expectations met. \n",
    "       \tYou did a very good job. \n",
    "        Good use of commenting.\n",
    "        Shows mastery of skills.\n",
    "\n",
    "5 -10 points  - Okay.\n",
    "        Minimum requirements.\n",
    "        Commenting weak.\n",
    "\n",
    "0 -5 points - It is not finished. \n",
    "          Does meet objectives. \n",
    "            Did not follow directions. \n",
    "            Choose not to do this part (which is a totally fine choice)\n"
   ]
  },
  {
   "cell_type": "markdown",
   "metadata": {},
   "source": [
    "## Self grading of custom feature ##\n",
    "\n",
    "Here in this block\n",
    "\n",
    "Please rate what score out of 15 your custom feature merits given the criteria above:\n",
    "\n",
    "* For example, if you are brand new to programming, using a main function could be an amazing feature - tell me how this helped you move to a new level.\n",
    "* In what ways did YOU push yourself? Did you try something you've never done before?\n",
    "* Alternatively, if you just did not have the time to do the custum feature, that is actually just fine and a reasonable choice for an adult. No judgment.\n",
    "\n",
    "GRADE: 15/15\n",
    "\n",
    "NARRATIVE: I learned so much about reading files, manipulating input, and regular expressions. I have always felt uncomfortable with using outside files and I feel fairly fluent now. I have had some theoretical content with regular expressions, but this really solidified the power of using them. My understanding of them now opens up a lot of exciting doors for my future coding skills. I pushed myself with the file data and manipulation. In order to make the data usable from the file, I needed to find a lot of new tools to massage the data into the right format (e.g., map(), regex, join, split(), etc.). In addition, I had a lot of fun thinking about the flow of the user experience with menus and input. The files made the decoding and encoding on Piazza SO MUCH easier and very enjoyable. Overall, I spent way more time on the custom feature than I expected to simply because I loved doing it. Hope you enjoy!"
   ]
  },
  {
   "cell_type": "code",
   "execution_count": null,
   "metadata": {},
   "outputs": [],
   "source": []
  }
 ],
 "metadata": {
  "kernelspec": {
   "display_name": "Python 3 (ipykernel)",
   "language": "python",
   "name": "python3"
  },
  "language_info": {
   "codemirror_mode": {
    "name": "ipython",
    "version": 3
   },
   "file_extension": ".py",
   "mimetype": "text/x-python",
   "name": "python",
   "nbconvert_exporter": "python",
   "pygments_lexer": "ipython3",
   "version": "3.10.5"
  }
 },
 "nbformat": 4,
 "nbformat_minor": 4
}
